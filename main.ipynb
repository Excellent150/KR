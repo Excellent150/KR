{
  "cells": [
    {
      "cell_type": "code",
      "execution_count": 4,
      "outputs": [],
      "source": [
        "import csv, copy"
      ],
      "metadata": {
        "pycharm": {
          "name": "#%%\n"
        },
        "id": "YFYZeYBjO60t"
      }
    },
    {
      "cell_type": "code",
      "execution_count": 12,
      "metadata": {
        "collapsed": true,
        "pycharm": {
          "name": "#%%\n"
        },
        "id": "4GcoGwXHO60u"
      },
      "outputs": [],
      "source": [
        "def read_from_csv(filename):\n",
        "    data = []\n",
        "    with open(filename, 'r', newline='', encoding='utf-8') as file:\n",
        "        reader = csv.reader(file)\n",
        "        headers = next(reader)\n",
        "        for row in reader:\n",
        "            data.append(row)\n",
        "    return headers, data\n",
        "\n",
        "\n",
        "def quicksort(arr, column):\n",
        "    if len(arr) <= 1:\n",
        "        return arr\n",
        "    else:\n",
        "        pivot = arr[0]\n",
        "        less = [x for x in arr if float(x[column]) > float(pivot[column])]\n",
        "        equal = [x for x in arr if float(x[column]) == float(pivot[column])]\n",
        "        greater = [x for x in arr if float(x[column]) < float(pivot[column])]\n",
        "        return quicksort(less, column) + equal + quicksort(greater, column)\n",
        "\n",
        "\n",
        "def output_sales(sales, header):\n",
        "    print(header)\n",
        "    for row in sales:\n",
        "        print(str(row[0]).center(len(headers[0]) + 3), str(row[1]).center(len(headers[1]) + 3), str(row[2]).center(len(headers[2]) + 3),\n",
        "          str(row[3]).center(len(headers[3]) + 3), str(row[4]).center(len(headers[4]) + 3), str(row[5]).center(len(headers[5]) + 3),\n",
        "          str(row[6]).center(len(headers[6]) + 3))"
      ]
    },
    {
      "cell_type": "code",
      "execution_count": 5,
      "outputs": [
        {
          "output_type": "stream",
          "name": "stdout",
          "text": [
            "['Order Number', 'Order Date', 'Product Name', 'Product Category', 'Quantity Sold', 'Unit Price', 'Total Cost']\n",
            "      2940        2023-10-16      Jeans_1           Clothing             9             954.41       8589.69   \n",
            "      8220        2023-12-08     T-shirt_1          Clothing             4             822.16       3288.64   \n",
            "      1979        2024-01-27      Laptop_1        Electronics            3             639.83       1919.49   \n",
            "      8554        2023-07-09      Jeans_2           Clothing             6             974.12       5844.72   \n",
            "      2428        2024-03-12      Laptop_2        Electronics            17            914.45       15545.65  \n",
            "      9128        2023-09-01      Jeans_3           Clothing             2             63.88         127.76   \n",
            "      8423        2024-01-08      Jeans_4           Clothing             2             802.16       1604.32   \n",
            "      3555        2023-09-02        TV_1          Electronics            14            797.02       11158.28  \n",
            "      6930        2023-06-04    Smartphone_1      Electronics            9             387.41       3486.69   \n",
            "      9090        2023-06-24    Smartphone_2      Electronics            3             788.34       2365.02   \n",
            "      4152        2023-08-29    Smartphone_3      Electronics            13            725.76       9434.88   \n",
            "      4087        2024-05-15    Smartphone_4      Electronics            20            137.16        2743.2   \n",
            "      3795        2024-05-14      Jeans_5           Clothing             15            21.76         326.4    \n",
            "      5881        2024-04-05        TV_2          Electronics            16            939.65       15034.4   \n",
            "      8723        2024-02-10      Jacket_1          Clothing             8             861.49       6891.92   \n",
            "      2585        2024-04-14      Jacket_2          Clothing             4             662.31       2649.24   \n",
            "      2562        2023-07-18      Jeans_6           Clothing             9             573.98       5165.82   \n",
            "      9179        2024-01-14      Jacket_3          Clothing             15            946.25       14193.75  \n",
            "      8645        2023-11-04     T-shirt_2          Clothing             18            473.88       8529.84   \n",
            "      6275        2024-01-05      Jacket_4          Clothing             20            637.92       12758.4   \n",
            "      5212        2023-10-02        TV_3          Electronics            16            978.08       15649.28  \n",
            "      2306        2024-02-23      Laptop_3        Electronics            5             637.75       3188.75   \n",
            "      6332        2023-12-26      Jeans_7           Clothing             12            106.68       1280.16   \n",
            "      7799        2024-01-14      Laptop_4        Electronics            10            734.01        7340.1   \n",
            "      5443        2023-06-25     T-shirt_3          Clothing             3             609.6         1828.8   \n",
            "      3559        2023-06-12      Jacket_5          Clothing             8             595.16       4761.28   \n",
            "      3566        2024-02-10      Laptop_5        Electronics            7             991.25       6938.75   \n",
            "      6510        2024-04-18     T-shirt_4          Clothing             7             156.88       1098.16   \n",
            "      6902        2023-11-18      Jeans_8           Clothing             14            350.76       4910.64   \n",
            "      4722        2024-02-13      Laptop_6        Electronics            4             636.09       2544.36   \n",
            "      5112        2023-05-25      Jacket_6          Clothing             1             814.49        814.49   \n",
            "      9999        2024-03-06    Smartphone_5      Electronics            16            50.57         809.12   \n",
            "      6592        2023-08-12        TV_4          Electronics            20            13.68         273.6    \n",
            "      7788        2023-10-19        TV_5          Electronics            3             246.59        739.77   \n",
            "      4737        2023-08-17      Laptop_7        Electronics            3             236.27        708.81   \n",
            "      8642        2023-11-05      Jeans_9           Clothing             8             313.19       2505.52   \n",
            "      9812        2023-12-30      Jeans_10          Clothing             15            96.82         1452.3   \n",
            "      9442        2023-09-30     T-shirt_5          Clothing             5             160.7         803.5    \n",
            "      7576        2023-11-26      Jeans_11          Clothing             8             503.78       4030.24   \n",
            "      2757        2024-01-04        TV_6          Electronics            11            88.42         972.62   \n",
            "      1772        2024-04-13      Jeans_12          Clothing             16            24.76         396.16   \n",
            "      8834        2023-07-16     T-shirt_6          Clothing             16            567.56       9080.96   \n",
            "      2065        2023-11-23        TV_7          Electronics            18            907.64       16337.52  \n",
            "      4195        2023-08-26      Jeans_13          Clothing             10            471.48        4714.8   \n",
            "      3123        2023-12-09    Smartphone_6      Electronics            5             926.06        4630.3   \n",
            "      1603        2024-01-06     T-shirt_7          Clothing             3             614.03       1842.09   \n",
            "      6977        2023-08-13      Jeans_14          Clothing             6             189.04       1134.24   \n",
            "      2077        2023-09-17    Smartphone_7      Electronics            15            80.27        1204.05   \n",
            "      2015        2023-12-19      Laptop_8        Electronics            15            261.58        3923.7   \n",
            "      7768        2024-03-14      Jacket_7          Clothing             7             268.43       1879.01   \n",
            "      4897        2024-04-29      Jeans_15          Clothing             17            492.87       8378.79   \n",
            "      3073        2024-05-12     T-shirt_8          Clothing             1             950.05        950.05   \n",
            "      8439        2023-11-19    Smartphone_8      Electronics            17            413.27       7025.59   \n",
            "      9870        2023-10-11      Laptop_9        Electronics            17            690.23       11733.91  \n",
            "      2923        2023-08-23      Jacket_8          Clothing             5             618.24        3091.2   \n",
            "      9276        2023-12-17        TV_8          Electronics            10            336.08        3360.8   \n",
            "      4313        2023-11-18      Jacket_9          Clothing             18            384.23       6916.14   \n",
            "      6254        2023-10-27      Jeans_16          Clothing             7             514.58       3602.06   \n",
            "      8274        2024-02-19    Smartphone_9      Electronics            13            69.38         901.94   \n",
            "      3996        2023-10-26     Laptop_10        Electronics            12            817.25        9807.0   \n",
            "      6672        2023-12-16      Jeans_17          Clothing             19            318.32       6048.08   \n",
            "      7083        2023-07-08      Jeans_18          Clothing             13            958.39       12459.07  \n",
            "      5010        2023-10-17     Jacket_10          Clothing             7             272.39       1906.73   \n",
            "      3028        2023-12-13   Smartphone_10      Electronics            4             496.63       1986.52   \n",
            "      6462        2024-03-02        TV_9          Electronics            14            469.45        6572.3   \n",
            "      7710        2024-03-18   Smartphone_11      Electronics            6             497.92       2987.52   \n",
            "      4199        2023-10-17     Laptop_11        Electronics            16            18.25         292.0    \n",
            "      8087        2023-08-07     Jacket_11          Clothing             5             392.39       1961.95   \n",
            "      6925        2024-03-30   Smartphone_12      Electronics            17            261.47       4444.99   \n",
            "      8586        2023-05-20   Smartphone_13      Electronics            6             163.96        983.76   \n",
            "      5994        2023-11-05   Smartphone_14      Electronics            16            314.83       5037.28   \n",
            "      3757        2024-02-19      Jeans_19          Clothing             3             527.69       1583.07   \n",
            "      8782        2023-12-16      Jeans_20          Clothing             16            326.62       5225.92   \n",
            "      8940        2024-01-10   Smartphone_15      Electronics            13            357.64       4649.32   \n",
            "      2963        2024-01-18      Jeans_21          Clothing             8             226.11       1808.88   \n",
            "      9960        2023-12-31     Laptop_12        Electronics            19            667.6        12684.4   \n",
            "      8581        2024-01-13      Jeans_22          Clothing             7             578.75       4051.25   \n",
            "      3189        2023-11-22     Laptop_13        Electronics            19            797.04       15143.76  \n",
            "      2609        2023-05-30     T-shirt_9          Clothing             7             211.19       1478.33   \n",
            "      4544        2023-09-07     T-shirt_10         Clothing             10            234.93        2349.3   \n",
            "      7031        2023-12-17   Smartphone_16      Electronics            18            987.12       17768.16  \n",
            "      3023        2023-10-17       TV_10          Electronics            19            73.66        1399.54   \n",
            "      9246        2023-11-18     T-shirt_11         Clothing             18            556.95       10025.1   \n",
            "      3621        2023-08-11      Jeans_23          Clothing             13            916.0        11908.0   \n",
            "      6250        2023-07-13      Jeans_24          Clothing             6             272.07       1632.42   \n",
            "      1158        2023-07-30   Smartphone_17      Electronics            7             330.4         2312.8   \n",
            "      5328        2024-04-08     Laptop_14        Electronics            4             761.56       3046.24   \n",
            "      5858        2024-02-29      Jeans_25          Clothing             15            228.85       3432.75   \n",
            "      2950        2024-03-17       TV_11          Electronics            6             790.71       4744.26   \n",
            "      9443        2023-07-02     Laptop_15        Electronics            17            509.78       8666.26   \n",
            "      7206        2023-11-09      Jeans_26          Clothing             6             721.17       4327.02   \n",
            "      9537        2023-09-10     T-shirt_12         Clothing             20            813.41       16268.2   \n",
            "      4274        2023-06-06     Jacket_12          Clothing             18            932.04       16776.72  \n",
            "      7510        2024-03-28      Jeans_27          Clothing             10            787.25        7872.5   \n",
            "      2704        2023-10-15   Smartphone_18      Electronics            11            864.63       9510.93   \n",
            "      1601        2023-08-21     T-shirt_13         Clothing             9             126.36       1137.24   \n",
            "      3389        2023-09-14   Smartphone_19      Electronics            17            605.06       10286.02  \n",
            "      5381        2023-10-17     T-shirt_14         Clothing             19            371.9         7066.1   \n",
            "      9454        2024-04-01     Laptop_16        Electronics            8             802.53       6420.24   \n",
            "      7086        2023-05-31       TV_12          Electronics            14            160.37       2245.18   \n"
          ]
        }
      ],
      "source": [
        "filename = \"sales_data.csv\"\n",
        "headers, sales_data = read_from_csv(filename)\n",
        "output_sales(sales_data, headers)"
      ],
      "metadata": {
        "pycharm": {
          "name": "#%%\n"
        },
        "id": "iBTDVH_sO60u",
        "outputId": "b3de4e2e-6d05-493a-9770-32d78d9e12f6",
        "colab": {
          "base_uri": "https://localhost:8080/"
        }
      }
    },
    {
      "cell_type": "code",
      "execution_count": 6,
      "outputs": [
        {
          "output_type": "stream",
          "name": "stdout",
          "text": [
            "Общая выручка магазина:  535718.78р\n"
          ]
        }
      ],
      "source": [
        "total_revenue = sum([float(row[6]) for row in sales_data])\n",
        "print(\"Общая выручка магазина: \", str(round(total_revenue, 2)) + \"р\")"
      ],
      "metadata": {
        "pycharm": {
          "name": "#%%\n"
        },
        "id": "4HpucF59O60v",
        "outputId": "23b0659e-f734-4027-a69d-6585c596d89a",
        "colab": {
          "base_uri": "https://localhost:8080/"
        }
      }
    },
    {
      "cell_type": "code",
      "execution_count": 13,
      "outputs": [
        {
          "output_type": "stream",
          "name": "stdout",
          "text": [
            "['Order Number', 'Order Date', 'Product Name', 'Product Category', 'Quantity Sold', 'Unit Price', 'Total Cost']\n",
            "      7031        2023-12-17   Smartphone_16      Electronics            18            987.12       17768.16  \n",
            "      4274        2023-06-06     Jacket_12          Clothing             18            932.04       16776.72  \n",
            "      2065        2023-11-23        TV_7          Electronics            18            907.64       16337.52  \n",
            "      9537        2023-09-10     T-shirt_12         Clothing             20            813.41       16268.2   \n",
            "      5212        2023-10-02        TV_3          Electronics            16            978.08       15649.28  \n",
            "      2428        2024-03-12      Laptop_2        Electronics            17            914.45       15545.65  \n",
            "      3189        2023-11-22     Laptop_13        Electronics            19            797.04       15143.76  \n",
            "      5881        2024-04-05        TV_2          Electronics            16            939.65       15034.4   \n",
            "      9179        2024-01-14      Jacket_3          Clothing             15            946.25       14193.75  \n",
            "      6275        2024-01-05      Jacket_4          Clothing             20            637.92       12758.4   \n",
            "      9960        2023-12-31     Laptop_12        Electronics            19            667.6        12684.4   \n",
            "      7083        2023-07-08      Jeans_18          Clothing             13            958.39       12459.07  \n",
            "      3621        2023-08-11      Jeans_23          Clothing             13            916.0        11908.0   \n",
            "      9870        2023-10-11      Laptop_9        Electronics            17            690.23       11733.91  \n",
            "      3555        2023-09-02        TV_1          Electronics            14            797.02       11158.28  \n",
            "      3389        2023-09-14   Smartphone_19      Electronics            17            605.06       10286.02  \n",
            "      9246        2023-11-18     T-shirt_11         Clothing             18            556.95       10025.1   \n",
            "      3996        2023-10-26     Laptop_10        Electronics            12            817.25        9807.0   \n",
            "      2704        2023-10-15   Smartphone_18      Electronics            11            864.63       9510.93   \n",
            "      4152        2023-08-29    Smartphone_3      Electronics            13            725.76       9434.88   \n",
            "      8834        2023-07-16     T-shirt_6          Clothing             16            567.56       9080.96   \n",
            "      9443        2023-07-02     Laptop_15        Electronics            17            509.78       8666.26   \n",
            "      2940        2023-10-16      Jeans_1           Clothing             9             954.41       8589.69   \n",
            "      8645        2023-11-04     T-shirt_2          Clothing             18            473.88       8529.84   \n",
            "      4897        2024-04-29      Jeans_15          Clothing             17            492.87       8378.79   \n",
            "      7510        2024-03-28      Jeans_27          Clothing             10            787.25        7872.5   \n",
            "      7799        2024-01-14      Laptop_4        Electronics            10            734.01        7340.1   \n",
            "      5381        2023-10-17     T-shirt_14         Clothing             19            371.9         7066.1   \n",
            "      8439        2023-11-19    Smartphone_8      Electronics            17            413.27       7025.59   \n",
            "      3566        2024-02-10      Laptop_5        Electronics            7             991.25       6938.75   \n",
            "      4313        2023-11-18      Jacket_9          Clothing             18            384.23       6916.14   \n",
            "      8723        2024-02-10      Jacket_1          Clothing             8             861.49       6891.92   \n",
            "      6462        2024-03-02        TV_9          Electronics            14            469.45        6572.3   \n",
            "      9454        2024-04-01     Laptop_16        Electronics            8             802.53       6420.24   \n",
            "      6672        2023-12-16      Jeans_17          Clothing             19            318.32       6048.08   \n",
            "      8554        2023-07-09      Jeans_2           Clothing             6             974.12       5844.72   \n",
            "      8782        2023-12-16      Jeans_20          Clothing             16            326.62       5225.92   \n",
            "      2562        2023-07-18      Jeans_6           Clothing             9             573.98       5165.82   \n",
            "      5994        2023-11-05   Smartphone_14      Electronics            16            314.83       5037.28   \n",
            "      6902        2023-11-18      Jeans_8           Clothing             14            350.76       4910.64   \n",
            "      3559        2023-06-12      Jacket_5          Clothing             8             595.16       4761.28   \n",
            "      2950        2024-03-17       TV_11          Electronics            6             790.71       4744.26   \n",
            "      4195        2023-08-26      Jeans_13          Clothing             10            471.48        4714.8   \n",
            "      8940        2024-01-10   Smartphone_15      Electronics            13            357.64       4649.32   \n",
            "      3123        2023-12-09    Smartphone_6      Electronics            5             926.06        4630.3   \n",
            "      6925        2024-03-30   Smartphone_12      Electronics            17            261.47       4444.99   \n",
            "      7206        2023-11-09      Jeans_26          Clothing             6             721.17       4327.02   \n",
            "      8581        2024-01-13      Jeans_22          Clothing             7             578.75       4051.25   \n",
            "      7576        2023-11-26      Jeans_11          Clothing             8             503.78       4030.24   \n",
            "      2015        2023-12-19      Laptop_8        Electronics            15            261.58        3923.7   \n",
            "      6254        2023-10-27      Jeans_16          Clothing             7             514.58       3602.06   \n",
            "      6930        2023-06-04    Smartphone_1      Electronics            9             387.41       3486.69   \n",
            "      5858        2024-02-29      Jeans_25          Clothing             15            228.85       3432.75   \n",
            "      9276        2023-12-17        TV_8          Electronics            10            336.08        3360.8   \n",
            "      8220        2023-12-08     T-shirt_1          Clothing             4             822.16       3288.64   \n",
            "      2306        2024-02-23      Laptop_3        Electronics            5             637.75       3188.75   \n",
            "      2923        2023-08-23      Jacket_8          Clothing             5             618.24        3091.2   \n",
            "      5328        2024-04-08     Laptop_14        Electronics            4             761.56       3046.24   \n",
            "      7710        2024-03-18   Smartphone_11      Electronics            6             497.92       2987.52   \n",
            "      4087        2024-05-15    Smartphone_4      Electronics            20            137.16        2743.2   \n",
            "      2585        2024-04-14      Jacket_2          Clothing             4             662.31       2649.24   \n",
            "      4722        2024-02-13      Laptop_6        Electronics            4             636.09       2544.36   \n",
            "      8642        2023-11-05      Jeans_9           Clothing             8             313.19       2505.52   \n",
            "      9090        2023-06-24    Smartphone_2      Electronics            3             788.34       2365.02   \n",
            "      4544        2023-09-07     T-shirt_10         Clothing             10            234.93        2349.3   \n",
            "      1158        2023-07-30   Smartphone_17      Electronics            7             330.4         2312.8   \n",
            "      7086        2023-05-31       TV_12          Electronics            14            160.37       2245.18   \n",
            "      3028        2023-12-13   Smartphone_10      Electronics            4             496.63       1986.52   \n",
            "      8087        2023-08-07     Jacket_11          Clothing             5             392.39       1961.95   \n",
            "      1979        2024-01-27      Laptop_1        Electronics            3             639.83       1919.49   \n",
            "      5010        2023-10-17     Jacket_10          Clothing             7             272.39       1906.73   \n",
            "      7768        2024-03-14      Jacket_7          Clothing             7             268.43       1879.01   \n",
            "      1603        2024-01-06     T-shirt_7          Clothing             3             614.03       1842.09   \n",
            "      5443        2023-06-25     T-shirt_3          Clothing             3             609.6         1828.8   \n",
            "      2963        2024-01-18      Jeans_21          Clothing             8             226.11       1808.88   \n",
            "      6250        2023-07-13      Jeans_24          Clothing             6             272.07       1632.42   \n",
            "      8423        2024-01-08      Jeans_4           Clothing             2             802.16       1604.32   \n",
            "      3757        2024-02-19      Jeans_19          Clothing             3             527.69       1583.07   \n",
            "      2609        2023-05-30     T-shirt_9          Clothing             7             211.19       1478.33   \n",
            "      9812        2023-12-30      Jeans_10          Clothing             15            96.82         1452.3   \n",
            "      3023        2023-10-17       TV_10          Electronics            19            73.66        1399.54   \n",
            "      6332        2023-12-26      Jeans_7           Clothing             12            106.68       1280.16   \n",
            "      2077        2023-09-17    Smartphone_7      Electronics            15            80.27        1204.05   \n",
            "      1601        2023-08-21     T-shirt_13         Clothing             9             126.36       1137.24   \n",
            "      6977        2023-08-13      Jeans_14          Clothing             6             189.04       1134.24   \n",
            "      6510        2024-04-18     T-shirt_4          Clothing             7             156.88       1098.16   \n",
            "      8586        2023-05-20   Smartphone_13      Electronics            6             163.96        983.76   \n",
            "      2757        2024-01-04        TV_6          Electronics            11            88.42         972.62   \n",
            "      3073        2024-05-12     T-shirt_8          Clothing             1             950.05        950.05   \n",
            "      8274        2024-02-19    Smartphone_9      Electronics            13            69.38         901.94   \n",
            "      5112        2023-05-25      Jacket_6          Clothing             1             814.49        814.49   \n",
            "      9999        2024-03-06    Smartphone_5      Electronics            16            50.57         809.12   \n",
            "      9442        2023-09-30     T-shirt_5          Clothing             5             160.7         803.5    \n",
            "      7788        2023-10-19        TV_5          Electronics            3             246.59        739.77   \n",
            "      4737        2023-08-17      Laptop_7        Electronics            3             236.27        708.81   \n",
            "      1772        2024-04-13      Jeans_12          Clothing             16            24.76         396.16   \n",
            "      3795        2024-05-14      Jeans_5           Clothing             15            21.76         326.4    \n",
            "      4199        2023-10-17     Laptop_11        Electronics            16            18.25         292.0    \n",
            "      6592        2023-08-12        TV_4          Electronics            20            13.68         273.6    \n",
            "      9128        2023-09-01      Jeans_3           Clothing             2             63.88         127.76   \n"
          ]
        }
      ],
      "source": [
        "copy_arr = copy.deepcopy(sales_data)\n",
        "sorted_sales_total_cost = quicksort(copy_arr, 6)\n",
        "output_sales(sorted_sales_total_cost, headers)"
      ],
      "metadata": {
        "pycharm": {
          "name": "#%%\n"
        },
        "id": "M1zDpnVaO60v",
        "outputId": "4e629fa0-c352-4ac3-decb-7f73b990caea",
        "colab": {
          "base_uri": "https://localhost:8080/"
        }
      }
    },
    {
      "cell_type": "code",
      "execution_count": 14,
      "outputs": [
        {
          "output_type": "stream",
          "name": "stdout",
          "text": [
            "Товар, который принес наибольшую вырочку:  Smartphone_16 - 17768.16р\n"
          ]
        }
      ],
      "source": [
        "print(\"Товар, который принес наибольшую вырочку: \", sorted_sales_total_cost[0][2], \"- \" + str(sorted_sales_total_cost[0][6]) + \"р\")"
      ],
      "metadata": {
        "pycharm": {
          "name": "#%%\n"
        },
        "id": "zUrRSyQzO60v",
        "outputId": "5d32f771-a926-4887-f7f3-d4da921765e1",
        "colab": {
          "base_uri": "https://localhost:8080/"
        }
      }
    },
    {
      "cell_type": "code",
      "execution_count": 16,
      "outputs": [
        {
          "output_type": "stream",
          "name": "stdout",
          "text": [
            "['Order Number', 'Order Date', 'Product Name', 'Product Category', 'Quantity Sold', 'Unit Price', 'Total Cost']\n",
            "      4087        2024-05-15    Smartphone_4      Electronics            20            137.16        2743.2   \n",
            "      6275        2024-01-05      Jacket_4          Clothing             20            637.92       12758.4   \n",
            "      6592        2023-08-12        TV_4          Electronics            20            13.68         273.6    \n",
            "      9537        2023-09-10     T-shirt_12         Clothing             20            813.41       16268.2   \n",
            "      6672        2023-12-16      Jeans_17          Clothing             19            318.32       6048.08   \n",
            "      9960        2023-12-31     Laptop_12        Electronics            19            667.6        12684.4   \n",
            "      3189        2023-11-22     Laptop_13        Electronics            19            797.04       15143.76  \n",
            "      3023        2023-10-17       TV_10          Electronics            19            73.66        1399.54   \n",
            "      5381        2023-10-17     T-shirt_14         Clothing             19            371.9         7066.1   \n",
            "      8645        2023-11-04     T-shirt_2          Clothing             18            473.88       8529.84   \n",
            "      2065        2023-11-23        TV_7          Electronics            18            907.64       16337.52  \n",
            "      4313        2023-11-18      Jacket_9          Clothing             18            384.23       6916.14   \n",
            "      7031        2023-12-17   Smartphone_16      Electronics            18            987.12       17768.16  \n",
            "      9246        2023-11-18     T-shirt_11         Clothing             18            556.95       10025.1   \n",
            "      4274        2023-06-06     Jacket_12          Clothing             18            932.04       16776.72  \n",
            "      2428        2024-03-12      Laptop_2        Electronics            17            914.45       15545.65  \n",
            "      4897        2024-04-29      Jeans_15          Clothing             17            492.87       8378.79   \n",
            "      8439        2023-11-19    Smartphone_8      Electronics            17            413.27       7025.59   \n",
            "      9870        2023-10-11      Laptop_9        Electronics            17            690.23       11733.91  \n",
            "      6925        2024-03-30   Smartphone_12      Electronics            17            261.47       4444.99   \n",
            "      9443        2023-07-02     Laptop_15        Electronics            17            509.78       8666.26   \n",
            "      3389        2023-09-14   Smartphone_19      Electronics            17            605.06       10286.02  \n",
            "      5881        2024-04-05        TV_2          Electronics            16            939.65       15034.4   \n",
            "      5212        2023-10-02        TV_3          Electronics            16            978.08       15649.28  \n",
            "      9999        2024-03-06    Smartphone_5      Electronics            16            50.57         809.12   \n",
            "      1772        2024-04-13      Jeans_12          Clothing             16            24.76         396.16   \n",
            "      8834        2023-07-16     T-shirt_6          Clothing             16            567.56       9080.96   \n",
            "      4199        2023-10-17     Laptop_11        Electronics            16            18.25         292.0    \n",
            "      5994        2023-11-05   Smartphone_14      Electronics            16            314.83       5037.28   \n",
            "      8782        2023-12-16      Jeans_20          Clothing             16            326.62       5225.92   \n",
            "      3795        2024-05-14      Jeans_5           Clothing             15            21.76         326.4    \n",
            "      9179        2024-01-14      Jacket_3          Clothing             15            946.25       14193.75  \n",
            "      9812        2023-12-30      Jeans_10          Clothing             15            96.82         1452.3   \n",
            "      2077        2023-09-17    Smartphone_7      Electronics            15            80.27        1204.05   \n",
            "      2015        2023-12-19      Laptop_8        Electronics            15            261.58        3923.7   \n",
            "      5858        2024-02-29      Jeans_25          Clothing             15            228.85       3432.75   \n",
            "      3555        2023-09-02        TV_1          Electronics            14            797.02       11158.28  \n",
            "      6902        2023-11-18      Jeans_8           Clothing             14            350.76       4910.64   \n",
            "      6462        2024-03-02        TV_9          Electronics            14            469.45        6572.3   \n",
            "      7086        2023-05-31       TV_12          Electronics            14            160.37       2245.18   \n",
            "      4152        2023-08-29    Smartphone_3      Electronics            13            725.76       9434.88   \n",
            "      8274        2024-02-19    Smartphone_9      Electronics            13            69.38         901.94   \n",
            "      7083        2023-07-08      Jeans_18          Clothing             13            958.39       12459.07  \n",
            "      8940        2024-01-10   Smartphone_15      Electronics            13            357.64       4649.32   \n",
            "      3621        2023-08-11      Jeans_23          Clothing             13            916.0        11908.0   \n",
            "      6332        2023-12-26      Jeans_7           Clothing             12            106.68       1280.16   \n",
            "      3996        2023-10-26     Laptop_10        Electronics            12            817.25        9807.0   \n",
            "      2757        2024-01-04        TV_6          Electronics            11            88.42         972.62   \n",
            "      2704        2023-10-15   Smartphone_18      Electronics            11            864.63       9510.93   \n",
            "      7799        2024-01-14      Laptop_4        Electronics            10            734.01        7340.1   \n",
            "      4195        2023-08-26      Jeans_13          Clothing             10            471.48        4714.8   \n",
            "      9276        2023-12-17        TV_8          Electronics            10            336.08        3360.8   \n",
            "      4544        2023-09-07     T-shirt_10         Clothing             10            234.93        2349.3   \n",
            "      7510        2024-03-28      Jeans_27          Clothing             10            787.25        7872.5   \n",
            "      2940        2023-10-16      Jeans_1           Clothing             9             954.41       8589.69   \n",
            "      6930        2023-06-04    Smartphone_1      Electronics            9             387.41       3486.69   \n",
            "      2562        2023-07-18      Jeans_6           Clothing             9             573.98       5165.82   \n",
            "      1601        2023-08-21     T-shirt_13         Clothing             9             126.36       1137.24   \n",
            "      8723        2024-02-10      Jacket_1          Clothing             8             861.49       6891.92   \n",
            "      3559        2023-06-12      Jacket_5          Clothing             8             595.16       4761.28   \n",
            "      8642        2023-11-05      Jeans_9           Clothing             8             313.19       2505.52   \n",
            "      7576        2023-11-26      Jeans_11          Clothing             8             503.78       4030.24   \n",
            "      2963        2024-01-18      Jeans_21          Clothing             8             226.11       1808.88   \n",
            "      9454        2024-04-01     Laptop_16        Electronics            8             802.53       6420.24   \n",
            "      3566        2024-02-10      Laptop_5        Electronics            7             991.25       6938.75   \n",
            "      6510        2024-04-18     T-shirt_4          Clothing             7             156.88       1098.16   \n",
            "      7768        2024-03-14      Jacket_7          Clothing             7             268.43       1879.01   \n",
            "      6254        2023-10-27      Jeans_16          Clothing             7             514.58       3602.06   \n",
            "      5010        2023-10-17     Jacket_10          Clothing             7             272.39       1906.73   \n",
            "      8581        2024-01-13      Jeans_22          Clothing             7             578.75       4051.25   \n",
            "      2609        2023-05-30     T-shirt_9          Clothing             7             211.19       1478.33   \n",
            "      1158        2023-07-30   Smartphone_17      Electronics            7             330.4         2312.8   \n",
            "      8554        2023-07-09      Jeans_2           Clothing             6             974.12       5844.72   \n",
            "      6977        2023-08-13      Jeans_14          Clothing             6             189.04       1134.24   \n",
            "      7710        2024-03-18   Smartphone_11      Electronics            6             497.92       2987.52   \n",
            "      8586        2023-05-20   Smartphone_13      Electronics            6             163.96        983.76   \n",
            "      6250        2023-07-13      Jeans_24          Clothing             6             272.07       1632.42   \n",
            "      2950        2024-03-17       TV_11          Electronics            6             790.71       4744.26   \n",
            "      7206        2023-11-09      Jeans_26          Clothing             6             721.17       4327.02   \n",
            "      2306        2024-02-23      Laptop_3        Electronics            5             637.75       3188.75   \n",
            "      9442        2023-09-30     T-shirt_5          Clothing             5             160.7         803.5    \n",
            "      3123        2023-12-09    Smartphone_6      Electronics            5             926.06        4630.3   \n",
            "      2923        2023-08-23      Jacket_8          Clothing             5             618.24        3091.2   \n",
            "      8087        2023-08-07     Jacket_11          Clothing             5             392.39       1961.95   \n",
            "      8220        2023-12-08     T-shirt_1          Clothing             4             822.16       3288.64   \n",
            "      2585        2024-04-14      Jacket_2          Clothing             4             662.31       2649.24   \n",
            "      4722        2024-02-13      Laptop_6        Electronics            4             636.09       2544.36   \n",
            "      3028        2023-12-13   Smartphone_10      Electronics            4             496.63       1986.52   \n",
            "      5328        2024-04-08     Laptop_14        Electronics            4             761.56       3046.24   \n",
            "      1979        2024-01-27      Laptop_1        Electronics            3             639.83       1919.49   \n",
            "      9090        2023-06-24    Smartphone_2      Electronics            3             788.34       2365.02   \n",
            "      5443        2023-06-25     T-shirt_3          Clothing             3             609.6         1828.8   \n",
            "      7788        2023-10-19        TV_5          Electronics            3             246.59        739.77   \n",
            "      4737        2023-08-17      Laptop_7        Electronics            3             236.27        708.81   \n",
            "      1603        2024-01-06     T-shirt_7          Clothing             3             614.03       1842.09   \n",
            "      3757        2024-02-19      Jeans_19          Clothing             3             527.69       1583.07   \n",
            "      9128        2023-09-01      Jeans_3           Clothing             2             63.88         127.76   \n",
            "      8423        2024-01-08      Jeans_4           Clothing             2             802.16       1604.32   \n",
            "      5112        2023-05-25      Jacket_6          Clothing             1             814.49        814.49   \n",
            "      3073        2024-05-12     T-shirt_8          Clothing             1             950.05        950.05   \n"
          ]
        }
      ],
      "source": [
        "copy_arr = copy.deepcopy(sales_data)\n",
        "sorted_sales_quantity = quicksort(copy_arr, 4)\n",
        "output_sales(sorted_sales_quantity, headers)"
      ],
      "metadata": {
        "pycharm": {
          "name": "#%%\n"
        },
        "id": "DNMFmV0sO60v",
        "outputId": "84d78c26-4cf7-47b7-9916-a95d63cdbc0f",
        "colab": {
          "base_uri": "https://localhost:8080/"
        }
      }
    },
    {
      "cell_type": "code",
      "execution_count": 17,
      "outputs": [
        {
          "output_type": "stream",
          "name": "stdout",
          "text": [
            "Товар, который был продан наибольшее количество раз:  Smartphone_4 - 20\n"
          ]
        }
      ],
      "source": [
        "print(\"Товар, который был продан наибольшее количество раз: \", sorted_sales_quantity[0][2], \"- \" + str(sorted_sales_quantity[0][4]))"
      ],
      "metadata": {
        "pycharm": {
          "name": "#%%\n"
        },
        "id": "NeT5QHnIO60v",
        "outputId": "f4dbd266-a6a9-4499-ecb2-0085b3cb3954",
        "colab": {
          "base_uri": "https://localhost:8080/"
        }
      }
    }
  ],
  "metadata": {
    "kernelspec": {
      "display_name": "Python 3",
      "language": "python",
      "name": "python3"
    },
    "language_info": {
      "codemirror_mode": {
        "name": "ipython",
        "version": 2
      },
      "file_extension": ".py",
      "mimetype": "text/x-python",
      "name": "python",
      "nbconvert_exporter": "python",
      "pygments_lexer": "ipython2",
      "version": "2.7.6"
    },
    "colab": {
      "provenance": []
    }
  },
  "nbformat": 4,
  "nbformat_minor": 0
}